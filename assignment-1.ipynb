{
 "cells": [
  {
   "cell_type": "code",
   "execution_count": null,
   "metadata": {},
   "outputs": [],
   "source": [
    "#intensity windowing\n",
    "\n",
    "import cv2 as cv \n",
    "import numpy as np\n",
    "import matplotlib.pyplot as plt\n",
    "\n",
    "c = np.array([(100,50),(150,200)])\n",
    "\n",
    "t1 = np.linspace(0, c[0,1], c[0,0] + 1, -0).astype('uint8')\n",
    "print(len(t1))\n",
    "t2 = np.linspace(c[0,1] + 1, c[1,1], c[1,0]-c[0,0]).astype('uint8')\n",
    "print(len(t2))\n",
    "t3 = np.linspace(c[1,1] + 1, 255, 255 - c[1,0]).astype('uint8')\n",
    "print(len(t3))\n",
    "\n",
    "transform = np.concatenate((t1,t2), axis=0).astype('uint8')\n",
    "transform = np.concatenate((transform, t3), axis=0).astype('uint8')\n",
    "print(transform)\n",
    "\n",
    "fig, ax = plt.subplots()\n",
    "ax.plot(transform)\n",
    "ax.set_xlabel(r'Input, $f(\\mathbf{x})$')\n",
    "ax.set_ylabel('Output, $\\mathrm{T}[f(\\mathbf{x})]$')\n",
    "ax.set_xlim(0,255)\n",
    "ax.set_ylim(0,255)\n",
    "ax.set_aspect('equal')\n",
    "plt.show()\n",
    "\n",
    "img_org = cv.imread('', cv.IMREAD_GRAYSCALE)\n",
    "print(img_org.shape)\n",
    "cv.namedWindow('Image', cv.WINDOW_AUTOSIZE)\n",
    "cv.imshow('Image', img_org)\n",
    "cv.waitKey(1000)\n",
    "img_transformed = cv.LUT(img_org, transform)\n",
    "cv.imshow('Image', img_transformed)\n",
    "cv.waitKey(1000)\n",
    "cv.destroyAllWindows()"
   ]
  }
 ],
 "metadata": {
  "kernelspec": {
   "display_name": "cv",
   "language": "python",
   "name": "python3"
  },
  "language_info": {
   "codemirror_mode": {
    "name": "ipython",
    "version": 3
   },
   "file_extension": ".py",
   "mimetype": "text/x-python",
   "name": "python",
   "nbconvert_exporter": "python",
   "pygments_lexer": "ipython3",
   "version": "3.11.1"
  },
  "orig_nbformat": 4,
  "vscode": {
   "interpreter": {
    "hash": "1df3a8821d9572c43dc1566313a4726de4fef46bb238b5a108cd916e42e22d30"
   }
  }
 },
 "nbformat": 4,
 "nbformat_minor": 2
}
